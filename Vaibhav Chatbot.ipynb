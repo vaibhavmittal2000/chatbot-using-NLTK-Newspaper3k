{
 "cells": [
  {
   "cell_type": "code",
   "execution_count": 1,
   "metadata": {},
   "outputs": [
    {
     "name": "stdout",
     "output_type": "stream",
     "text": [
      "Requirement already satisfied: nltk in g:\\anaconda\\lib\\site-packages (3.5)\n",
      "Requirement already satisfied: regex in g:\\anaconda\\lib\\site-packages (from nltk) (2020.10.15)\n",
      "Requirement already satisfied: joblib in g:\\anaconda\\lib\\site-packages (from nltk) (0.17.0)\n",
      "Requirement already satisfied: click in g:\\anaconda\\lib\\site-packages (from nltk) (7.1.2)\n",
      "Requirement already satisfied: tqdm in g:\\anaconda\\lib\\site-packages (from nltk) (4.50.2)\n",
      "Note: you may need to restart the kernel to use updated packages.\n"
     ]
    }
   ],
   "source": [
    "pip install nltk"
   ]
  },
  {
   "cell_type": "code",
   "execution_count": 2,
   "metadata": {},
   "outputs": [
    {
     "name": "stdout",
     "output_type": "stream",
     "text": [
      "Requirement already satisfied: newspaper3k in g:\\anaconda\\lib\\site-packages (0.2.8)Note: you may need to restart the kernel to use updated packages.\n",
      "Requirement already satisfied: tinysegmenter==0.3 in g:\\anaconda\\lib\\site-packages (from newspaper3k) (0.3)\n",
      "Requirement already satisfied: jieba3k>=0.35.1 in g:\\anaconda\\lib\\site-packages (from newspaper3k) (0.35.1)\n",
      "Requirement already satisfied: PyYAML>=3.11 in g:\\anaconda\\lib\\site-packages (from newspaper3k) (5.3.1)\n",
      "Requirement already satisfied: requests>=2.10.0 in g:\\anaconda\\lib\\site-packages (from newspaper3k) (2.24.0)\n",
      "Requirement already satisfied: Pillow>=3.3.0 in g:\\anaconda\\lib\\site-packages (from newspaper3k) (8.0.1)\n",
      "Requirement already satisfied: feedparser>=5.2.1 in g:\\anaconda\\lib\\site-packages (from newspaper3k) (6.0.2)\n",
      "Requirement already satisfied: cssselect>=0.9.2 in g:\\anaconda\\lib\\site-packages (from newspaper3k) (1.1.0)\n",
      "Requirement already satisfied: lxml>=3.6.0 in g:\\anaconda\\lib\\site-packages (from newspaper3k) (4.6.1)\n",
      "Requirement already satisfied: tldextract>=2.0.1 in g:\\anaconda\\lib\\site-packages (from newspaper3k) (3.1.0)\n",
      "Requirement already satisfied: feedfinder2>=0.0.4 in g:\\anaconda\\lib\\site-packages (from newspaper3k) (0.0.4)\n",
      "Requirement already satisfied: nltk>=3.2.1 in g:\\anaconda\\lib\\site-packages (from newspaper3k) (3.5)\n",
      "Requirement already satisfied: beautifulsoup4>=4.4.1 in g:\\anaconda\\lib\\site-packages (from newspaper3k) (4.9.3)\n",
      "Requirement already satisfied: python-dateutil>=2.5.3 in g:\\anaconda\\lib\\site-packages (from newspaper3k) (2.8.1)\n",
      "Requirement already satisfied: chardet<4,>=3.0.2 in g:\\anaconda\\lib\\site-packages (from requests>=2.10.0->newspaper3k) (3.0.4)\n",
      "Requirement already satisfied: idna<3,>=2.5 in g:\\anaconda\\lib\\site-packages (from requests>=2.10.0->newspaper3k) (2.10)\n",
      "Requirement already satisfied: urllib3!=1.25.0,!=1.25.1,<1.26,>=1.21.1 in g:\\anaconda\\lib\\site-packages (from requests>=2.10.0->newspaper3k) (1.25.11)\n",
      "Requirement already satisfied: certifi>=2017.4.17 in g:\\anaconda\\lib\\site-packages (from requests>=2.10.0->newspaper3k) (2020.6.20)\n",
      "Requirement already satisfied: sgmllib3k in g:\\anaconda\\lib\\site-packages (from feedparser>=5.2.1->newspaper3k) (1.0.0)\n",
      "Requirement already satisfied: requests-file>=1.4 in g:\\anaconda\\lib\\site-packages (from tldextract>=2.0.1->newspaper3k) (1.5.1)\n",
      "Requirement already satisfied: filelock>=3.0.8 in g:\\anaconda\\lib\\site-packages (from tldextract>=2.0.1->newspaper3k) (3.0.12)\n",
      "Requirement already satisfied: six in g:\\anaconda\\lib\\site-packages (from feedfinder2>=0.0.4->newspaper3k) (1.15.0)\n",
      "Requirement already satisfied: tqdm in g:\\anaconda\\lib\\site-packages (from nltk>=3.2.1->newspaper3k) (4.50.2)\n",
      "Requirement already satisfied: click in g:\\anaconda\\lib\\site-packages (from nltk>=3.2.1->newspaper3k) (7.1.2)\n",
      "Requirement already satisfied: regex in g:\\anaconda\\lib\\site-packages (from nltk>=3.2.1->newspaper3k) (2020.10.15)\n",
      "Requirement already satisfied: joblib in g:\\anaconda\\lib\\site-packages (from nltk>=3.2.1->newspaper3k) (0.17.0)\n",
      "Requirement already satisfied: soupsieve>1.2; python_version >= \"3.0\" in g:\\anaconda\\lib\\site-packages (from beautifulsoup4>=4.4.1->newspaper3k) (2.0.1)\n",
      "\n"
     ]
    }
   ],
   "source": [
    "pip install newspaper3k"
   ]
  },
  {
   "cell_type": "code",
   "execution_count": 3,
   "metadata": {},
   "outputs": [],
   "source": [
    "#import the packages\n",
    "from newspaper import Article\n",
    "import random\n",
    "import string\n",
    "import numpy as np\n",
    "import warnings\n",
    "import nltk\n",
    "from sklearn.feature_extraction.text import TfidfVectorizer\n",
    "from sklearn.metrics.pairwise import cosine_similarity"
   ]
  },
  {
   "cell_type": "code",
   "execution_count": 4,
   "metadata": {},
   "outputs": [],
   "source": [
    "#ignore the warnings\n",
    "warnings.filterwarnings('ignore')"
   ]
  },
  {
   "cell_type": "code",
   "execution_count": 5,
   "metadata": {},
   "outputs": [
    {
     "data": {
      "text/plain": [
       "True"
      ]
     },
     "execution_count": 5,
     "metadata": {},
     "output_type": "execute_result"
    }
   ],
   "source": [
    "#download package from nltk\n",
    "nltk.download('punkt',quiet=True)\n",
    "nltk.download('wordnet',quiet=True)"
   ]
  },
  {
   "cell_type": "code",
   "execution_count": 6,
   "metadata": {},
   "outputs": [
    {
     "name": "stdout",
     "output_type": "stream",
     "text": [
      "\"Visible light\" redirects here. For all parts of the electromagnetic spectrum that can be seen by the eye, see Visible spectrum\n",
      "\n",
      "Rays of light shine through metal patterns into a railway station\n",
      "\n",
      "Light is a form of electromagnetic radiation with a wavelength which can be detected by the human eye.[1] It is a small part of the electromagnetic spectrum and radiation given off by stars like the sun. Animals can also see light. The study of light, known as optics, is an important research area in modern physics. When light hits an opaque object it forms a shadow but when the light hits a transparent object, it passes through it almost completely without producing a shadow.\n",
      "\n",
      "Light is electromagnetic radiation that shows properties of both waves and particles. Light is a form of energy.Light also keeps the Earth warm. Light exists in tiny energy packets called photons. Each wave has a wavelength or frequency. The human eye sees each wavelength as a different color. Rainbows show the entire spectrum of visible light. The separate colors, moving in from the outer edges, are usually listed as red, orange, yellow, green, blue, indigo and violet. Other colors can be seen only with special cameras or instruments: Wavelengths below the frequency of red are called infrared, and higher than of violet are called ultraviolet.\n",
      "\n",
      "The other main properties of light are intensity, polarization, phase and orbital angular momentum.\n",
      "\n",
      "In physics, the term light sometimes refers to electromagnetic radiation of any wavelength, whether visible or not.[2][3] This article is about visible light. Read the electromagnetic radiation article for the general concept.\n",
      "\n",
      "The law of reflection is what allows us to see an object reflected in a mirror.\n",
      "\n",
      "About light [ change | change source ]\n",
      "\n",
      "Laser beams\n",
      "\n",
      "In a vacuum, light moves at the speed of light, which is 299,792,458 meters per second[4] (or about 186,282 miles per second). This means it takes about 8 minutes for light to reach Earth from the Sun.[5][6] In glass it travels at about two-thirds as fast.\n",
      "\n",
      "Light moves in a straight line, creating shadows when the path of light is blocked. More solid things will have a darker shadow, things that are more clear have a lighter shadow, and transparent things will have none or very little shadow. Light can pass through transparent things the most easily. When light is not in a vacuum, it travels more slowly than its maximum speed of light. The slowest light ever recorded moved at 39 miles per hour.[7] Our eyes react to light; when we see something we see the light it reflects, or the light it emits. For example, a lamp gives off light, and everything else in the same room as the lamp reflects its light.\n",
      "\n",
      "Every color of light has a different wavelength. The shorter the wavelength, the more energy the light has. The speed at which light moves does not depend on its energy. Going through partly clear objects can slow light down by a very small amount.\n",
      "\n",
      "White light is made up of many different colors of light added together. When white light shines through a prism, it splits up into different colors, becoming a spectrum. The spectrum contains all of the wavelengths of light that we can see. Red light has the longest wavelength, and violet (purple) light has the shortest.\n",
      "\n",
      "Light with a wavelength shorter than violet is called ultraviolet light. X-rays and gamma rays are also forms of light with even shorter wavelengths than ultraviolet. Light with a wavelength longer than red is called infrared light. Radio waves are a form of electromagnetic radiation with a wavelength even longer than infrared light. The microwaves that are used to heat food in a microwave oven are also a form of electromagnetic radiation. Our eyes cannot see those kinds of energy, but there are some cameras that can see them. The various forms of light, both visible and invisible are the electromagnetic spectrum.\n",
      "\n",
      "When light is refracted in raindrops, a rainbow is made. The raindrop acts like a prism and refracts the light until we can see the colors of the spectrum.\n",
      "\n",
      "Rainbow in Budapest shows the colors of the visible spectrum.\n",
      "\n",
      "Light and color are forms of analog information. However, electronic cameras and computer displays work with digital information. Electronic cameras or document scanners make a digital version of a color image by separating out the full color image into separate red, green, and blue images. Later, a digital display uses pixels of just those three colors. Computer screens use only these three colors in different brightness levels. The brain combines them to see all of the other colors in the image.\n",
      "\n",
      "People think of objects as having color. This is because the molecules that make up the object absorb certain light waves, leaving the other light waves to bounce off. The human eye sees the wavelengths of all of the light that was not absorbed, and the combination of those leaves the brain with the impression of a color.\n"
     ]
    }
   ],
   "source": [
    "#get artical url\n",
    "article= Article('https://simple.wikipedia.org/wiki/Light')\n",
    "article.download()\n",
    "article.parse()\n",
    "article.nlp()\n",
    "corpus=article.text\n",
    "#print\n",
    "print(corpus)"
   ]
  },
  {
   "cell_type": "code",
   "execution_count": 7,
   "metadata": {},
   "outputs": [
    {
     "name": "stdout",
     "output_type": "stream",
     "text": [
      "['\"Visible light\" redirects here.', 'For all parts of the electromagnetic spectrum that can be seen by the eye, see Visible spectrum\\n\\nRays of light shine through metal patterns into a railway station\\n\\nLight is a form of electromagnetic radiation with a wavelength which can be detected by the human eye.', '[1] It is a small part of the electromagnetic spectrum and radiation given off by stars like the sun.', 'Animals can also see light.', 'The study of light, known as optics, is an important research area in modern physics.', 'When light hits an opaque object it forms a shadow but when the light hits a transparent object, it passes through it almost completely without producing a shadow.', 'Light is electromagnetic radiation that shows properties of both waves and particles.', 'Light is a form of energy.Light also keeps the Earth warm.', 'Light exists in tiny energy packets called photons.', 'Each wave has a wavelength or frequency.', 'The human eye sees each wavelength as a different color.', 'Rainbows show the entire spectrum of visible light.', 'The separate colors, moving in from the outer edges, are usually listed as red, orange, yellow, green, blue, indigo and violet.', 'Other colors can be seen only with special cameras or instruments: Wavelengths below the frequency of red are called infrared, and higher than of violet are called ultraviolet.', 'The other main properties of light are intensity, polarization, phase and orbital angular momentum.', 'In physics, the term light sometimes refers to electromagnetic radiation of any wavelength, whether visible or not.', '[2][3] This article is about visible light.', 'Read the electromagnetic radiation article for the general concept.', 'The law of reflection is what allows us to see an object reflected in a mirror.', 'About light [ change | change source ]\\n\\nLaser beams\\n\\nIn a vacuum, light moves at the speed of light, which is 299,792,458 meters per second[4] (or about 186,282 miles per second).', 'This means it takes about 8 minutes for light to reach Earth from the Sun.', '[5][6] In glass it travels at about two-thirds as fast.', 'Light moves in a straight line, creating shadows when the path of light is blocked.', 'More solid things will have a darker shadow, things that are more clear have a lighter shadow, and transparent things will have none or very little shadow.', 'Light can pass through transparent things the most easily.', 'When light is not in a vacuum, it travels more slowly than its maximum speed of light.', 'The slowest light ever recorded moved at 39 miles per hour.', '[7] Our eyes react to light; when we see something we see the light it reflects, or the light it emits.', 'For example, a lamp gives off light, and everything else in the same room as the lamp reflects its light.', 'Every color of light has a different wavelength.', 'The shorter the wavelength, the more energy the light has.', 'The speed at which light moves does not depend on its energy.', 'Going through partly clear objects can slow light down by a very small amount.', 'White light is made up of many different colors of light added together.', 'When white light shines through a prism, it splits up into different colors, becoming a spectrum.', 'The spectrum contains all of the wavelengths of light that we can see.', 'Red light has the longest wavelength, and violet (purple) light has the shortest.', 'Light with a wavelength shorter than violet is called ultraviolet light.', 'X-rays and gamma rays are also forms of light with even shorter wavelengths than ultraviolet.', 'Light with a wavelength longer than red is called infrared light.', 'Radio waves are a form of electromagnetic radiation with a wavelength even longer than infrared light.', 'The microwaves that are used to heat food in a microwave oven are also a form of electromagnetic radiation.', 'Our eyes cannot see those kinds of energy, but there are some cameras that can see them.', 'The various forms of light, both visible and invisible are the electromagnetic spectrum.', 'When light is refracted in raindrops, a rainbow is made.', 'The raindrop acts like a prism and refracts the light until we can see the colors of the spectrum.', 'Rainbow in Budapest shows the colors of the visible spectrum.', 'Light and color are forms of analog information.', 'However, electronic cameras and computer displays work with digital information.', 'Electronic cameras or document scanners make a digital version of a color image by separating out the full color image into separate red, green, and blue images.', 'Later, a digital display uses pixels of just those three colors.', 'Computer screens use only these three colors in different brightness levels.', 'The brain combines them to see all of the other colors in the image.', 'People think of objects as having color.', 'This is because the molecules that make up the object absorb certain light waves, leaving the other light waves to bounce off.', 'The human eye sees the wavelengths of all of the light that was not absorbed, and the combination of those leaves the brain with the impression of a color.']\n"
     ]
    }
   ],
   "source": [
    "#tokenization\n",
    "text=corpus\n",
    "sent_tokens=nltk.sent_tokenize(text)\n",
    "print(sent_tokens)"
   ]
  },
  {
   "cell_type": "code",
   "execution_count": 8,
   "metadata": {},
   "outputs": [
    {
     "name": "stdout",
     "output_type": "stream",
     "text": [
      "!\"#$%&'()*+,-./:;<=>?@[\\]^_`{|}~\n",
      "{33: None, 34: None, 35: None, 36: None, 37: None, 38: None, 39: None, 40: None, 41: None, 42: None, 43: None, 44: None, 45: None, 46: None, 47: None, 58: None, 59: None, 60: None, 61: None, 62: None, 63: None, 64: None, 91: None, 92: None, 93: None, 94: None, 95: None, 96: None, 123: None, 124: None, 125: None, 126: None}\n"
     ]
    }
   ],
   "source": [
    "#creating a dictionary to remove the punctuation\n",
    "remove_punct_dict=dict( (ord(punct),None) for punct in string.punctuation)\n",
    "print(string.punctuation)\n",
    "print(remove_punct_dict)"
   ]
  },
  {
   "cell_type": "code",
   "execution_count": 9,
   "metadata": {},
   "outputs": [
    {
     "name": "stdout",
     "output_type": "stream",
     "text": [
      "['visible', 'light', 'redirects', 'here', 'for', 'all', 'parts', 'of', 'the', 'electromagnetic', 'spectrum', 'that', 'can', 'be', 'seen', 'by', 'the', 'eye', 'see', 'visible', 'spectrum', 'rays', 'of', 'light', 'shine', 'through', 'metal', 'patterns', 'into', 'a', 'railway', 'station', 'light', 'is', 'a', 'form', 'of', 'electromagnetic', 'radiation', 'with', 'a', 'wavelength', 'which', 'can', 'be', 'detected', 'by', 'the', 'human', 'eye1', 'it', 'is', 'a', 'small', 'part', 'of', 'the', 'electromagnetic', 'spectrum', 'and', 'radiation', 'given', 'off', 'by', 'stars', 'like', 'the', 'sun', 'animals', 'can', 'also', 'see', 'light', 'the', 'study', 'of', 'light', 'known', 'as', 'optics', 'is', 'an', 'important', 'research', 'area', 'in', 'modern', 'physics', 'when', 'light', 'hits', 'an', 'opaque', 'object', 'it', 'forms', 'a', 'shadow', 'but', 'when', 'the', 'light', 'hits', 'a', 'transparent', 'object', 'it', 'passes', 'through', 'it', 'almost', 'completely', 'without', 'producing', 'a', 'shadow', 'light', 'is', 'electromagnetic', 'radiation', 'that', 'shows', 'properties', 'of', 'both', 'waves', 'and', 'particles', 'light', 'is', 'a', 'form', 'of', 'energylight', 'also', 'keeps', 'the', 'earth', 'warm', 'light', 'exists', 'in', 'tiny', 'energy', 'packets', 'called', 'photons', 'each', 'wave', 'has', 'a', 'wavelength', 'or', 'frequency', 'the', 'human', 'eye', 'sees', 'each', 'wavelength', 'as', 'a', 'different', 'color', 'rainbows', 'show', 'the', 'entire', 'spectrum', 'of', 'visible', 'light', 'the', 'separate', 'colors', 'moving', 'in', 'from', 'the', 'outer', 'edges', 'are', 'usually', 'listed', 'as', 'red', 'orange', 'yellow', 'green', 'blue', 'indigo', 'and', 'violet', 'other', 'colors', 'can', 'be', 'seen', 'only', 'with', 'special', 'cameras', 'or', 'instruments', 'wavelengths', 'below', 'the', 'frequency', 'of', 'red', 'are', 'called', 'infrared', 'and', 'higher', 'than', 'of', 'violet', 'are', 'called', 'ultraviolet', 'the', 'other', 'main', 'properties', 'of', 'light', 'are', 'intensity', 'polarization', 'phase', 'and', 'orbital', 'angular', 'momentum', 'in', 'physics', 'the', 'term', 'light', 'sometimes', 'refers', 'to', 'electromagnetic', 'radiation', 'of', 'any', 'wavelength', 'whether', 'visible', 'or', 'not23', 'this', 'article', 'is', 'about', 'visible', 'light', 'read', 'the', 'electromagnetic', 'radiation', 'article', 'for', 'the', 'general', 'concept', 'the', 'law', 'of', 'reflection', 'is', 'what', 'allows', 'us', 'to', 'see', 'an', 'object', 'reflected', 'in', 'a', 'mirror', 'about', 'light', 'change', 'change', 'source', 'laser', 'beams', 'in', 'a', 'vacuum', 'light', 'moves', 'at', 'the', 'speed', 'of', 'light', 'which', 'is', '299792458', 'meters', 'per', 'second4', 'or', 'about', '186282', 'miles', 'per', 'second', 'this', 'means', 'it', 'takes', 'about', '8', 'minutes', 'for', 'light', 'to', 'reach', 'earth', 'from', 'the', 'sun56', 'in', 'glass', 'it', 'travels', 'at', 'about', 'twothirds', 'as', 'fast', 'light', 'moves', 'in', 'a', 'straight', 'line', 'creating', 'shadows', 'when', 'the', 'path', 'of', 'light', 'is', 'blocked', 'more', 'solid', 'things', 'will', 'have', 'a', 'darker', 'shadow', 'things', 'that', 'are', 'more', 'clear', 'have', 'a', 'lighter', 'shadow', 'and', 'transparent', 'things', 'will', 'have', 'none', 'or', 'very', 'little', 'shadow', 'light', 'can', 'pass', 'through', 'transparent', 'things', 'the', 'most', 'easily', 'when', 'light', 'is', 'not', 'in', 'a', 'vacuum', 'it', 'travels', 'more', 'slowly', 'than', 'its', 'maximum', 'speed', 'of', 'light', 'the', 'slowest', 'light', 'ever', 'recorded', 'moved', 'at', '39', 'miles', 'per', 'hour7', 'our', 'eyes', 'react', 'to', 'light', 'when', 'we', 'see', 'something', 'we', 'see', 'the', 'light', 'it', 'reflects', 'or', 'the', 'light', 'it', 'emits', 'for', 'example', 'a', 'lamp', 'gives', 'off', 'light', 'and', 'everything', 'else', 'in', 'the', 'same', 'room', 'as', 'the', 'lamp', 'reflects', 'its', 'light', 'every', 'color', 'of', 'light', 'has', 'a', 'different', 'wavelength', 'the', 'shorter', 'the', 'wavelength', 'the', 'more', 'energy', 'the', 'light', 'has', 'the', 'speed', 'at', 'which', 'light', 'moves', 'does', 'not', 'depend', 'on', 'its', 'energy', 'going', 'through', 'partly', 'clear', 'objects', 'can', 'slow', 'light', 'down', 'by', 'a', 'very', 'small', 'amount', 'white', 'light', 'is', 'made', 'up', 'of', 'many', 'different', 'colors', 'of', 'light', 'added', 'together', 'when', 'white', 'light', 'shines', 'through', 'a', 'prism', 'it', 'splits', 'up', 'into', 'different', 'colors', 'becoming', 'a', 'spectrum', 'the', 'spectrum', 'contains', 'all', 'of', 'the', 'wavelengths', 'of', 'light', 'that', 'we', 'can', 'see', 'red', 'light', 'has', 'the', 'longest', 'wavelength', 'and', 'violet', 'purple', 'light', 'has', 'the', 'shortest', 'light', 'with', 'a', 'wavelength', 'shorter', 'than', 'violet', 'is', 'called', 'ultraviolet', 'light', 'xrays', 'and', 'gamma', 'rays', 'are', 'also', 'forms', 'of', 'light', 'with', 'even', 'shorter', 'wavelengths', 'than', 'ultraviolet', 'light', 'with', 'a', 'wavelength', 'longer', 'than', 'red', 'is', 'called', 'infrared', 'light', 'radio', 'waves', 'are', 'a', 'form', 'of', 'electromagnetic', 'radiation', 'with', 'a', 'wavelength', 'even', 'longer', 'than', 'infrared', 'light', 'the', 'microwaves', 'that', 'are', 'used', 'to', 'heat', 'food', 'in', 'a', 'microwave', 'oven', 'are', 'also', 'a', 'form', 'of', 'electromagnetic', 'radiation', 'our', 'eyes', 'can', 'not', 'see', 'those', 'kinds', 'of', 'energy', 'but', 'there', 'are', 'some', 'cameras', 'that', 'can', 'see', 'them', 'the', 'various', 'forms', 'of', 'light', 'both', 'visible', 'and', 'invisible', 'are', 'the', 'electromagnetic', 'spectrum', 'when', 'light', 'is', 'refracted', 'in', 'raindrops', 'a', 'rainbow', 'is', 'made', 'the', 'raindrop', 'acts', 'like', 'a', 'prism', 'and', 'refracts', 'the', 'light', 'until', 'we', 'can', 'see', 'the', 'colors', 'of', 'the', 'spectrum', 'rainbow', 'in', 'budapest', 'shows', 'the', 'colors', 'of', 'the', 'visible', 'spectrum', 'light', 'and', 'color', 'are', 'forms', 'of', 'analog', 'information', 'however', 'electronic', 'cameras', 'and', 'computer', 'displays', 'work', 'with', 'digital', 'information', 'electronic', 'cameras', 'or', 'document', 'scanners', 'make', 'a', 'digital', 'version', 'of', 'a', 'color', 'image', 'by', 'separating', 'out', 'the', 'full', 'color', 'image', 'into', 'separate', 'red', 'green', 'and', 'blue', 'images', 'later', 'a', 'digital', 'display', 'uses', 'pixels', 'of', 'just', 'those', 'three', 'colors', 'computer', 'screens', 'use', 'only', 'these', 'three', 'colors', 'in', 'different', 'brightness', 'levels', 'the', 'brain', 'combines', 'them', 'to', 'see', 'all', 'of', 'the', 'other', 'colors', 'in', 'the', 'image', 'people', 'think', 'of', 'objects', 'as', 'having', 'color', 'this', 'is', 'because', 'the', 'molecules', 'that', 'make', 'up', 'the', 'object', 'absorb', 'certain', 'light', 'waves', 'leaving', 'the', 'other', 'light', 'waves', 'to', 'bounce', 'off', 'the', 'human', 'eye', 'sees', 'the', 'wavelengths', 'of', 'all', 'of', 'the', 'light', 'that', 'was', 'not', 'absorbed', 'and', 'the', 'combination', 'of', 'those', 'leaves', 'the', 'brain', 'with', 'the', 'impression', 'of', 'a', 'color']\n"
     ]
    }
   ],
   "source": [
    "#create a function to return lower case words \n",
    "def LemNormalize(text):\n",
    "  return nltk.word_tokenize(text.lower().translate(remove_punct_dict))\n",
    "print(LemNormalize(text))"
   ]
  },
  {
   "cell_type": "code",
   "execution_count": 10,
   "metadata": {},
   "outputs": [],
   "source": [
    "#keywords for greetings\n",
    "greeting_input=[\"hi\",\"hello\",\"hey\",\"hola\"]\n",
    "greeting_response=[\"howdy\",\"hey there\",\"hi\",\"hello :)\"]\n",
    "def greeting(sentence):\n",
    "  for word in sentence.split():\n",
    "    if word.lower() in greeting_input:\n",
    "      return random.choice(greeting_response)"
   ]
  },
  {
   "cell_type": "code",
   "execution_count": 11,
   "metadata": {},
   "outputs": [],
   "source": [
    "def response(user_response):\n",
    " #user response and robo responce\n",
    "  #user_response=\"WHat is chronic disease\"\n",
    "  user_response=user_response.lower()\n",
    "  #print(user_response)\n",
    "  #robo response\n",
    "  robo_response=''\n",
    "  sent_tokens.append(user_response)\n",
    "  #print(sent_tokens)\n",
    "  tfidfvec=TfidfVectorizer(tokenizer=LemNormalize , stop_words='english')\n",
    "  tfidf=tfidfvec.fit_transform(sent_tokens)\n",
    "  #print(tfidf)\n",
    "  #get similarity score\n",
    "  val=cosine_similarity(tfidf[-1],tfidf)\n",
    "  #print(val)\n",
    "  idx=val.argsort()[0][-2]\n",
    "  flat=val.flatten()\n",
    "  flat.sort()\n",
    "  score=flat[-2]\n",
    "  #print(score)\n",
    "  if score==0:\n",
    "    robo_response=robo_response+\"sorry,i dont understand\"\n",
    "  else:\n",
    "    robo_response=robo_response+sent_tokens[idx]\n",
    "\n",
    "  sent_tokens.remove(user_response)\n",
    "  return robo_response"
   ]
  },
  {
   "cell_type": "code",
   "execution_count": 12,
   "metadata": {},
   "outputs": [
    {
     "name": "stdout",
     "output_type": "stream",
     "text": [
      "hello!!! this is madmax,i can answer your queris related to light ,type bye to exit\n",
      "cherry:hello\n",
      "madmax: hello :)\n",
      "cherry:what are photons\n",
      "madmax:Light exists in tiny energy packets called photons.\n",
      "cherry:what is study of light\n",
      "madmax:The study of light, known as optics, is an important research area in modern physics.\n",
      "cherry:bye\n",
      "madmax: see you later :)\n"
     ]
    }
   ],
   "source": [
    "greeting_input=[\"hi\",\"hello\",\"hey\",\"hola\"]\n",
    "greeting_response=[\"howdy\",\"hey there\",\"hi\",\"hello :)\"]\n",
    "def greeting(sentence):\n",
    "  for word in sentence.split():\n",
    "    if word.lower() in greeting_input:\n",
    "      return random.choice(greeting_response)\n",
    "flag=True\n",
    "print(\"hello!!! this is madmax,i can answer your queris related to light ,type bye to exit\")\n",
    "while(flag==True):\n",
    "  user_response=input(\"cherry:\")\n",
    "  #user_response=user_response.lower()\n",
    "  if(user_response!='bye'):\n",
    "    if(user_response=='thanks' or user_response=='thank you'):\n",
    "      flag=False\n",
    "      print(\"madmax: anytime :)\")\n",
    "    else:\n",
    "       if( greeting(user_response) != None):\n",
    "         print(\"madmax: \"+ greeting(user_response))\n",
    "       else:\n",
    "         print(\"madmax:\"+response(user_response))\n",
    "  else:\n",
    "    flag=False\n",
    "    print(\"madmax: see you later :)\")"
   ]
  },
  {
   "cell_type": "code",
   "execution_count": null,
   "metadata": {},
   "outputs": [],
   "source": []
  }
 ],
 "metadata": {
  "kernelspec": {
   "display_name": "Python 3",
   "language": "python",
   "name": "python3"
  },
  "language_info": {
   "codemirror_mode": {
    "name": "ipython",
    "version": 3
   },
   "file_extension": ".py",
   "mimetype": "text/x-python",
   "name": "python",
   "nbconvert_exporter": "python",
   "pygments_lexer": "ipython3",
   "version": "3.8.5"
  }
 },
 "nbformat": 4,
 "nbformat_minor": 4
}
